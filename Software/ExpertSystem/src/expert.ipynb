{
 "cells": [
  {
   "cell_type": "code",
   "execution_count": 1,
   "metadata": {},
   "outputs": [],
   "source": [
    "import re\n",
    "from rich import print\n",
    "\n",
    "def name_group(pattern):\n",
    "    return re.sub('{(.)}', r'(?P<\\1>.+?)', pattern)\n",
    "\n",
    "def Rule(output, *patterns):\n",
    "    return (output, [name_group(pattern) + '$' for pattern in patterns])\n",
    "            \n",
    "def word(w):\n",
    "    return r'\\b' + w + r'\\b'\n",
    "    \n",
    "def clean(text) -> str: \n",
    "    return ' '.join(text.split()).replace(\"’\", \"'\").rstrip('.').rstrip(',')"
   ]
  },
  {
   "cell_type": "code",
   "execution_count": 2,
   "metadata": {},
   "outputs": [
    {
     "data": {
      "text/plain": [
       "'if something something then something2 something2'"
      ]
     },
     "execution_count": 2,
     "metadata": {},
     "output_type": "execute_result"
    }
   ],
   "source": [
    "re.match(r\"if (?P<P>.+) then (?P<Q>.+)$\",\"if something something then something2 something2\").group()"
   ]
  },
  {
   "cell_type": "code",
   "execution_count": 3,
   "metadata": {},
   "outputs": [
    {
     "data": {
      "text/plain": [
       "('{P} ⇒ {Q}', ['if (?P<P>.+?) then (?P<Q>.+?)$', 'if (?P<P>.+?), (?P<Q>.+?)$'])"
      ]
     },
     "execution_count": 3,
     "metadata": {},
     "output_type": "execute_result"
    }
   ],
   "source": [
    "Rule('{P} ⇒ {Q}', 'if {P} then {Q}', 'if {P}, {Q}')\n"
   ]
  },
  {
   "cell_type": "code",
   "execution_count": 4,
   "metadata": {},
   "outputs": [],
   "source": [
    "pattern_rules = [\n",
    "    Rule('{P} ⇒ {Q}',         'if {P} then {Q}', 'if {P}, {Q}',\n",
    "                                '{Q} provided that {P}', '{Q} whenever {P}', \n",
    "                               '{P} implies {Q}', '{P} therefore {Q}', \n",
    "                               '{Q}, if {P}', '{Q} if {P}', '{P} only if {Q}'),\n",
    "    Rule('{P} ⋁ {Q}',          'either {P} or else {Q}', 'either {P} or {Q}'),\n",
    "    Rule('{P} ⋀ {Q}',          'both {P} and {Q}'),\n",
    "    Rule('¬{P} ⋀ ¬{Q}',       'neither {P} nor {Q}'),\n",
    "    Rule('¬{A}{P} ⋀ ¬{A}{Q}', '{A} neither {P} nor {Q}'),\n",
    "    Rule('¬{Q} ⇒ {P}',        '{P} unless {Q}'),\n",
    "    Rule('{P} ⋀ {Q}',          '{P} and {Q}', '{P} but {Q}'),\n",
    "    Rule('{P} ⋁ {Q}',          '{P} or else {Q}', '{P} or {Q}'),\n",
    "    ]\n",
    "\n",
    "negations = [\n",
    "    (word(\"not\"), \"\"),\n",
    "    (word(\"cannot\"), \"can\"),\n",
    "    (word(\"can't\"), \"can\"),\n",
    "    (word(\"won't\"), \"will\"),\n",
    "    (word(\"ain't\"), \"is\"),\n",
    "    (word(\"isn't\"), \"is\"),\n",
    "    (\"n't\", \"\"),\n",
    "    ]\n",
    "\n",
    "operators = {\"⋁\":\" or \", \"⋀\":\" and \", \"⇒\":\" implies \", \"¬\":\" not \"}"
   ]
  },
  {
   "cell_type": "code",
   "execution_count": 5,
   "metadata": {},
   "outputs": [],
   "source": [
    "def match_rules(sentence, defs) -> tuple:\n",
    "    sentence = clean(sentence)\n",
    "    for rule in pattern_rules:\n",
    "        result = match_rule(sentence, rule, defs)\n",
    "        if result: \n",
    "            return result\n",
    "    return match_literal(sentence, negations, defs)\n",
    "        \n",
    "def match_rule(sentence, rule, defs) -> tuple:\n",
    "    output, patterns = rule\n",
    "    for pattern in patterns:\n",
    "        match = re.match(pattern, sentence, flags=re.I)\n",
    "        if match:\n",
    "            groups = match.groupdict()\n",
    "            for P in sorted(groups):\n",
    "                groups[P] = match_rules(groups[P], defs)[0]\n",
    "            return '(' + output.format(**groups) + ')', defs\n",
    "        \n",
    "def match_literal(sentence, negations, defs) -> tuple:\n",
    "    polarity = ''\n",
    "    for (neg, pos) in negations:\n",
    "        (sentence, n) = re.subn(neg, pos, sentence, flags=re.I)\n",
    "        polarity += n * '¬'\n",
    "    sentence = clean(sentence)\n",
    "    P = proposition_name(sentence, defs)\n",
    "    defs[P] = sentence\n",
    "    return polarity + P, defs\n",
    "    \n",
    "def proposition_name(sentence, defs):\n",
    "    inverted = {defs[P]: P for P in defs}\n",
    "    if sentence in inverted:\n",
    "        return inverted[sentence]                      # Find previously-used name\n",
    "    else:\n",
    "        return next(P for P in 'PQRSTUVWXYZABCDEFGHJKLMNO' if P not in defs)"
   ]
  },
  {
   "cell_type": "code",
   "execution_count": 6,
   "metadata": {},
   "outputs": [
    {
     "data": {
      "text/plain": [
       "('(P ⇒ ¬Q)', {'P': 'i win', 'Q': 'you will win'})"
      ]
     },
     "execution_count": 6,
     "metadata": {},
     "output_type": "execute_result"
    }
   ],
   "source": [
    "match_rule(\"If i win, you won't win\",\n",
    "           Rule('{P} ⇒ {Q}', 'if {P}, {Q}'),\n",
    "           {})"
   ]
  },
  {
   "cell_type": "code",
   "execution_count": 7,
   "metadata": {},
   "outputs": [],
   "source": [
    "def logic(sentence:str, defs:dict): \n",
    "    logic, defs = match_rules(sentence, defs)\n",
    "    print('[#22ddff]English:[/] ' + sentence +'.', '[#22ff88]\\nLogic:[/]', logic, end=\"\")\n",
    "    return logic\n",
    "\n",
    "premises = []\n",
    "defs = {}\n",
    "\n",
    "def takeInput():  \n",
    "    sentence = clean(input(\"write your logic statement: \"))\n",
    "    if sentence:\n",
    "        premises.append(logic(sentence, defs))\n",
    "        return takeInput()\n",
    "    else:\n",
    "        return\n",
    "    \n",
    "def printNotations():\n",
    "    text = '[#ffaaff]Notations:[/]\\n'\n",
    "    for P in sorted(defs):\n",
    "        text += f'\\n  [#ff22aa]{P}:[/] {defs[P]}'\n",
    "\n",
    "    if len(defs) != 0:\n",
    "        print(text)\n",
    "        \n",
    "takeInput()\n",
    "printNotations()"
   ]
  },
  {
   "cell_type": "code",
   "execution_count": 8,
   "metadata": {},
   "outputs": [
    {
     "data": {
      "text/html": [
       "<pre style=\"white-space:pre;overflow-x:auto;line-height:normal;font-family:Menlo,'DejaVu Sans Mono',consolas,'Courier New',monospace\"><span style=\"font-weight: bold\">[]</span>\n",
       "</pre>\n"
      ],
      "text/plain": [
       "\u001b[1m[\u001b[0m\u001b[1m]\u001b[0m\n"
      ]
     },
     "metadata": {},
     "output_type": "display_data"
    },
    {
     "data": {
      "text/html": [
       "<pre style=\"white-space:pre;overflow-x:auto;line-height:normal;font-family:Menlo,'DejaVu Sans Mono',consolas,'Courier New',monospace\"><span style=\"color: #2299ff; text-decoration-color: #2299ff\">Final Conclusion: </span>\n",
       "</pre>\n"
      ],
      "text/plain": [
       "\u001b[38;2;34;153;255mFinal Conclusion: \u001b[0m\n"
      ]
     },
     "metadata": {},
     "output_type": "display_data"
    }
   ],
   "source": [
    "\n",
    "class inference_rule():\n",
    "    def __init__(self, name:str, *patterns) -> None:\n",
    "        self.name = name\n",
    "        self.patterns = patterns\n",
    "\n",
    "inference_rules = [\n",
    "    inference_rule(\"modus ponenus\", r\"\\(?(.+?) ⋀ \\(?\\1 ⇒ (?P<conclusion>¬?.+?)\\)?\\)?$\"),\n",
    "    inference_rule(\"modus tollens\", r\"\\(?¬(.+?) \\(?⋀ (.+?) ⇒ (?P<conclusion>(\\1))\\)?\\(?$\"),\n",
    "    inference_rule(\"hypothetical syllogism\", r\"\\(?\\(?(?P<conclusion>.+?) ⇒ (.+?)\\)? ⋀ \\(?(\\2) ⇒ (?P<conclusion2>.+?)\\)?\\)?$\"),\n",
    "    inference_rule(\"disjunctive syllogism\", r\"\\(?\\(?(.+?) ⋁ (?P<conclusion>.+?)\\)? ⋀ ¬\\1\\)?$\"),\n",
    "    inference_rule(\"resolution\", r\"\\(?\\(?(?P<conclusion>.+?) ⋁ (.+?)\\)? ⋀ \\(?¬\\2 ⋁ (?P<conclusion2>.+?)\\)?\\)?$\", r\"\\(?\\(?(.+?) ⋁ (?P<conclusion>.+?)\\)? ⋀ \\(?¬\\1 ⋁ (?P<conclusion2>.+?)\\)?\\)?$\")\n",
    "]\n",
    "conclusion = premises.copy()\n",
    "def evaluate(premise):\n",
    "    print(premise)\n",
    "    for i in range(0,len(premise)):\n",
    "        for j in range(0,len(premise)):\n",
    "            if i == j: continue\n",
    "            for rule in inference_rules:\n",
    "                for pattern in rule.patterns:\n",
    "                    expression = premise[i] + \" ⋀ \" + premise[j] # tries conjunction with each pair of permutations\n",
    "                    match = re.match(pattern, expression)\n",
    "                    if match:\n",
    "                        conclusion = match.group(\"conclusion\")\n",
    "                        if rule.name == \"modus tollens\":\n",
    "                            conclusion = \"¬\"+match.group(\"conclusion\")\n",
    "                        elif rule.name == \"hypothetical syllogism\":\n",
    "                            conclusion = \"(\"+ match.group(\"conclusion\") + \" ⇒ \" + match.group(\"conclusion2\")+\")\"\n",
    "                        elif rule.name == \"resolution\":\n",
    "                            conclusion = \"(\" + match.group(\"conclusion\") + \" ⋁ \" + match.group(\"conclusion2\") + \")\"\n",
    "                        premise.pop(max(i,j))\n",
    "                        premise.pop(min(i,j))\n",
    "                        premise.append(conclusion)\n",
    "                        print(\"[#ff88ff]\"+expression+\"[#22ff55] by Using \"+rule.name+f\"\\n[#ff88ff]{conclusion}[/]\")\n",
    "                        return evaluate(premise)\n",
    "    return\n",
    "\n",
    "evaluate(conclusion)\n",
    "englishStatement = \"\"\n",
    "for i in conclusion:\n",
    "    for letter in i:\n",
    "        if letter in defs:\n",
    "            englishStatement += defs[letter]\n",
    "        elif letter in operators:\n",
    "            englishStatement += operators[letter]\n",
    "    englishStatement += \"\\n\"\n",
    "\n",
    "printNotations()\n",
    "print(\"[#2299ff]Final Conclusion: [#aaddff]\"+englishStatement)"
   ]
  },
  {
   "cell_type": "code",
   "execution_count": 9,
   "metadata": {},
   "outputs": [
    {
     "data": {
      "text/plain": [
       "'R'"
      ]
     },
     "execution_count": 9,
     "metadata": {},
     "output_type": "execute_result"
    }
   ],
   "source": [
    "re.match(r\"\\(?(.+?) ⋀ \\(?\\1 ⇒ (?P<conclusion>¬?.+?)\\)?\\)?$\", \"(P or Q) ⋀ ((P or Q) ⇒ R)\").group(\"conclusion\")"
   ]
  },
  {
   "cell_type": "code",
   "execution_count": 10,
   "metadata": {},
   "outputs": [
    {
     "data": {
      "text/plain": [
       "<re.Match object; span=(0, 11), match='P ⋀ (P ⇒ S)'>"
      ]
     },
     "execution_count": 10,
     "metadata": {},
     "output_type": "execute_result"
    }
   ],
   "source": [
    "# Modus ponenus RegEx\n",
    "re.match(r\"\\(?(.+?) ⋀ \\(?\\1 ⇒ (?P<conclusion>¬?.+?)\\)?\\)?$\", \"P ⋀ (P ⇒ S)\")"
   ]
  },
  {
   "attachments": {
    "image.png": {
     "image/png": "[encoded data removed]"
    }
   },
   "cell_type": "markdown",
   "metadata": {},
   "source": [
    "![image.png](attachment:image.png)"
   ]
  },
  {
   "cell_type": "code",
   "execution_count": 11,
   "metadata": {},
   "outputs": [
    {
     "data": {
      "text/plain": [
       "<re.Match object; span=(0, 24), match='¬(Q ⋀ R) ⋀ (P ⇒ (Q ⋀ R))'>"
      ]
     },
     "execution_count": 11,
     "metadata": {},
     "output_type": "execute_result"
    }
   ],
   "source": [
    "# Modus tollens RegEx\n",
    "re.match(r\"¬(.+?) ⋀ \\(?(?P<conclusion>(.+?)) ⇒ (\\1)\\)?$\", \"¬(Q ⋀ R) ⋀ (P ⇒ (Q ⋀ R))\")"
   ]
  },
  {
   "attachments": {
    "image.png": {
     "image/png": "[encoded data removed]"
    }
   },
   "cell_type": "markdown",
   "metadata": {},
   "source": [
    "![image.png](attachment:image.png)"
   ]
  },
  {
   "cell_type": "code",
   "execution_count": 12,
   "metadata": {},
   "outputs": [
    {
     "data": {
      "text/plain": [
       "<re.Match object; span=(0, 13), match='P ⇒ Q ⋀ Q ⇒ R'>"
      ]
     },
     "execution_count": 12,
     "metadata": {},
     "output_type": "execute_result"
    }
   ],
   "source": [
    "# Hypothetical Syllogism\n",
    "re.match(r\"\\(?(?P<conclusion>.+?) ⇒ (.+?)\\)? ⋀ \\(?(\\2) ⇒ (?P<conclusion2>.+?)\\)?$\", \"P ⇒ Q ⋀ Q ⇒ R\")"
   ]
  },
  {
   "attachments": {
    "image.png": {
     "image/png": "[encoded data removed]"
    }
   },
   "cell_type": "markdown",
   "metadata": {},
   "source": [
    "![image.png](attachment:image.png)"
   ]
  },
  {
   "cell_type": "code",
   "execution_count": 13,
   "metadata": {},
   "outputs": [
    {
     "data": {
      "text/plain": [
       "<re.Match object; span=(0, 12), match='(P ⋁ Q) ⋀ ¬P'>"
      ]
     },
     "execution_count": 13,
     "metadata": {},
     "output_type": "execute_result"
    }
   ],
   "source": [
    "# Disjunctive syllogism\n",
    "re.match(r\"\\(?(.+?) ⋁ (?P<conclusion>.+?)\\)? ⋀ ¬\\1$\", \"(P ⋁ Q) ⋀ ¬P\")"
   ]
  },
  {
   "attachments": {
    "image.png": {
     "image/png": "[encoded data removed]"
    }
   },
   "cell_type": "markdown",
   "metadata": {},
   "source": [
    "![image.png](attachment:image.png)"
   ]
  },
  {
   "cell_type": "code",
   "execution_count": 14,
   "metadata": {},
   "outputs": [
    {
     "data": {
      "text/plain": [
       "<re.Match object; span=(0, 18), match='(P ⋁ Q) ⋀ (¬Q ⋁ R)'>"
      ]
     },
     "execution_count": 14,
     "metadata": {},
     "output_type": "execute_result"
    }
   ],
   "source": [
    "# Resolution\n",
    "re.match(r\"\\(?(?P<conclusion>.+?) ⋁ (.+?)\\)? ⋀ \\(?¬\\2 ⋁ (?P<conclusion2>.+?)\\)?$\", \"(P ⋁ Q) ⋀ (¬Q ⋁ R)\")"
   ]
  },
  {
   "attachments": {
    "image.png": {
     "image/png": "[encoded data removed]"
    }
   },
   "cell_type": "markdown",
   "metadata": {},
   "source": [
    "![image.png](attachment:image.png)"
   ]
  }
 ],
 "metadata": {
  "kernelspec": {
   "display_name": "Python 3",
   "language": "python",
   "name": "python3"
  },
  "language_info": {
   "codemirror_mode": {
    "name": "ipython",
    "version": 3
   },
   "file_extension": ".py",
   "mimetype": "text/x-python",
   "name": "python",
   "nbconvert_exporter": "python",
   "pygments_lexer": "ipython3",
   "version": "3.11.7"
  }
 },
 "nbformat": 4,
 "nbformat_minor": 2
}
